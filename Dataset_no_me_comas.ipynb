{
 "cells": [
  {
   "cell_type": "markdown",
   "metadata": {},
   "source": [
    "# Dataset: Yellow Submarine\n",
    "----"
   ]
  },
  {
   "cell_type": "markdown",
   "metadata": {},
   "source": [
    "Cada fila representa un hongo, cada columna contiene atributos de este. \n",
    "\n",
    "La columna *classes* indica si el hongo es venenoso o no.\n",
    "\n",
    "hongos | atributos\n",
    ":----:   | :----:\n",
    "8124     | 23\n"
   ]
  },
  {
   "cell_type": "markdown",
   "metadata": {},
   "source": [
    "# Variables\n",
    "\n",
    "Nombre   |  Posibles valores\n",
    ":------- |  :---\n",
    "cap-shape   | (bell, conical, convex, flat, knobbed, sunken)\n",
    "cap-surface | (fibrous, grooves, scaly, smooth)\n",
    "cap-color | (brown, buff, cinnamon, gray, green, pink, purple, red, white, yellow)\n",
    "bruises | (bruises, no)\n",
    "odor | (almond, anise, creosote, fishy, foul, musty, none, pungent, spicy)\n",
    "gill-attachment | (attached, descending, free, notched)\n",
    "gill-spacing | (close, crowded, distant)\n",
    "gill-size | (broad, narrow)\n",
    "gill-color | (black, brown, buff, chocolate, gray, green, orange, pink, purple, red, white, yellow)\n",
    "stalk-shape | (enlarging, tapering)\n",
    "stalk-root | (bulbous, club, cup, equal, rhizomorphs, rooted, missing)\n",
    "stalk-surface-above-ring | (fibrous, scaly, silky, smooth)\n",
    "stalk-surface-below-ring | (fibrous, scaly, silky, smooth)\n",
    "stalk-color-above-ring | (brown, buff, cinnamon, gray, orange, pink, red, white, yellow)\n",
    "stalk-color-below-ring | (brown, buff, cinnamon, gray, orange, pink, red, white, yellow)\n",
    "veil-type | (partial, universal)\n",
    "veil-color | (brown, orange, white, yellow)\n",
    "ring-number | (none, one, two)\n",
    "ring-type | (cobwebby, evanescent, flaring, large, none, pendant, sheathing, zone)\n",
    "spore-print-color | (black, brown, buff, chocolate, green, orange, purple, white, yellow)\n",
    "population | (abundant, clustered, numerous, scattered ,several, solitary)\n",
    "habitat | (grasses, leaves, meadows, paths, urban, waste, woods)\n",
    "classes   |  (edible, poisonous)"
   ]
  },
  {
   "cell_type": "code",
   "execution_count": null,
   "metadata": {},
   "outputs": [],
   "source": []
  }
 ],
 "metadata": {
  "kernelspec": {
   "display_name": "Python 3.7.5 64-bit",
   "language": "python",
   "name": "python37564bitdd07daf68109432f8a93b5a5dcf3ce2d"
  },
  "language_info": {
   "codemirror_mode": {
    "name": "ipython",
    "version": 3
   },
   "file_extension": ".py",
   "mimetype": "text/x-python",
   "name": "python",
   "nbconvert_exporter": "python",
   "pygments_lexer": "ipython3",
   "version": "3.7.5"
  }
 },
 "nbformat": 4,
 "nbformat_minor": 4
}
